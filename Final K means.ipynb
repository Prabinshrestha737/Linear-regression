{
 "cells": [
  {
   "cell_type": "code",
   "execution_count": 1,
   "id": "0580a6bb",
   "metadata": {},
   "outputs": [
    {
     "name": "stdout",
     "output_type": "stream",
     "text": [
      "   Age  SiteSpending  SiteTime  RecommendImpression Education        WorkType  \\\n",
      "0   32        314.06     30.14                    0    Degree  Private sector   \n",
      "1   20       3758.36    149.36                    4      GCSE  Private sector   \n",
      "2   36        601.72     21.87                    0   Masters  Private sector   \n",
      "3   21         44.89    182.80                    9   Masters  Private sector   \n",
      "4   24        614.80    194.34                    0      GCSE  Private sector   \n",
      "\n",
      "      Sex            Region    Salary  \n",
      "0    Male            London  60173.49  \n",
      "1  Female        South East  42965.45  \n",
      "2    Male   East of England  54924.41  \n",
      "3  Female  Northern Ireland  26734.99  \n",
      "4    Male          Scotland  15325.23  \n"
     ]
    },
    {
     "ename": "TypeError",
     "evalue": "KMeans.__init__() got an unexpected keyword argument 'set_params'",
     "output_type": "error",
     "traceback": [
      "\u001b[1;31m---------------------------------------------------------------------------\u001b[0m",
      "\u001b[1;31mTypeError\u001b[0m                                 Traceback (most recent call last)",
      "Cell \u001b[1;32mIn[1], line 16\u001b[0m\n\u001b[0;32m     12\u001b[0m x \u001b[38;5;241m=\u001b[39m data[\u001b[38;5;124m'\u001b[39m\u001b[38;5;124mSalary\u001b[39m\u001b[38;5;124m'\u001b[39m] \u001b[38;5;66;03m# 1t for rows and second for columns\u001b[39;00m\n\u001b[0;32m     14\u001b[0m test \u001b[38;5;241m=\u001b[39m \u001b[38;5;28mlist\u001b[39m(\u001b[38;5;28mzip\u001b[39m(a, x))\n\u001b[1;32m---> 16\u001b[0m kmeans \u001b[38;5;241m=\u001b[39m \u001b[43mKMeans\u001b[49m\u001b[43m(\u001b[49m\u001b[38;5;241;43m2\u001b[39;49m\u001b[43m,\u001b[49m\u001b[43m \u001b[49m\u001b[43mset_params\u001b[49m\u001b[38;5;241;43m=\u001b[39;49m\u001b[38;5;28;43;01mTrue\u001b[39;49;00m\u001b[43m)\u001b[49m\n\u001b[0;32m     17\u001b[0m \u001b[38;5;28mprint\u001b[39m(\u001b[38;5;28mdir\u001b[39m(kmeans))\n\u001b[0;32m     18\u001b[0m kmeans\u001b[38;5;241m.\u001b[39mfit(test)\n",
      "\u001b[1;31mTypeError\u001b[0m: KMeans.__init__() got an unexpected keyword argument 'set_params'"
     ]
    }
   ],
   "source": [
    "import numpy as np\n",
    "import pandas as pd\n",
    "import matplotlib.pyplot as plt\n",
    "from sklearn.cluster import KMeans\n",
    "\n",
    "\n",
    "data = pd.read_csv('Comp1801CourseworkData.csv')\n",
    "\n",
    "print(data.head())\n",
    "\n",
    "a = data['Age']\n",
    "x = data['Salary'] # 1t for rows and second for columns\n",
    "\n",
    "test = list(zip(a, x))\n",
    "\n",
    "kmeans = KMeans(2)\n",
    "print(dir(kmeans))\n",
    "kmeans.fit(test)\n",
    "\n",
    "identified_clusters = kmeans.fit_predict(test)\n",
    "print(identified_clusters)\n",
    "\n",
    "data_with_clusters = data.copy()\n",
    "data_with_clusters['Clusters'] = identified_clusters \n",
    "plt.scatter(data_with_clusters['Salary'],data_with_clusters['Age'],c=data_with_clusters['Clusters'],cmap='rainbow')"
   ]
  }
 ],
 "metadata": {
  "kernelspec": {
   "display_name": "Python 3 (ipykernel)",
   "language": "python",
   "name": "python3"
  },
  "language_info": {
   "codemirror_mode": {
    "name": "ipython",
    "version": 3
   },
   "file_extension": ".py",
   "mimetype": "text/x-python",
   "name": "python",
   "nbconvert_exporter": "python",
   "pygments_lexer": "ipython3",
   "version": "3.10.5"
  }
 },
 "nbformat": 4,
 "nbformat_minor": 5
}
